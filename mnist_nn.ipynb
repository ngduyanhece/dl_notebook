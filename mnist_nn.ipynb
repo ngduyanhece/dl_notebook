{
 "cells": [
  {
   "cell_type": "code",
   "execution_count": 1,
   "metadata": {
    "collapsed": true
   },
   "outputs": [],
   "source": [
    "import numpy as np\n",
    "import pandas as pd\n",
    "import matplotlib.pyplot as plt\n",
    "from sklearn.utils import shuffle\n",
    "%matplotlib inline "
   ]
  },
  {
   "cell_type": "code",
   "execution_count": 2,
   "metadata": {
    "collapsed": true
   },
   "outputs": [],
   "source": [
    "def get_mnist_data():\n",
    "    df = pd.read_csv('../data/mnist/train.csv',header=None)\n",
    "    data = df.iloc[1:].as_matrix()\n",
    "    data = data.astype('int')\n",
    "    Y = data[:,0]\n",
    "    X = data[:,1:]/255.0\n",
    "    return X,Y"
   ]
  },
  {
   "cell_type": "code",
   "execution_count": 3,
   "metadata": {
    "collapsed": true
   },
   "outputs": [],
   "source": [
    "def softmax(A):\n",
    "    expA = np.exp(A)\n",
    "    return expA / expA.sum(axis=1,keepdims=True)"
   ]
  },
  {
   "cell_type": "code",
   "execution_count": 4,
   "metadata": {
    "collapsed": true
   },
   "outputs": [],
   "source": [
    "def cost(T,Y):\n",
    "    return -(T*np.log(Y)).sum()"
   ]
  },
  {
   "cell_type": "code",
   "execution_count": 5,
   "metadata": {
    "collapsed": true
   },
   "outputs": [],
   "source": [
    "def y2indicator(Y):\n",
    "    N = Y.shape[0]\n",
    "    K = len(set(Y))\n",
    "    Y_ind = np.zeros((N,K))\n",
    "    for i in xrange(N):\n",
    "        Y_ind[i,Y[i]] = 1\n",
    "    return Y_ind"
   ]
  },
  {
   "cell_type": "code",
   "execution_count": 6,
   "metadata": {
    "collapsed": true
   },
   "outputs": [],
   "source": [
    "def error_rate(targets,predictions):\n",
    "    return np.mean(targets != predictions)"
   ]
  },
  {
   "cell_type": "code",
   "execution_count": 7,
   "metadata": {
    "collapsed": true
   },
   "outputs": [],
   "source": [
    "def relu(x):\n",
    "    return x*(x>0)"
   ]
  },
  {
   "cell_type": "code",
   "execution_count": 8,
   "metadata": {
    "collapsed": true
   },
   "outputs": [],
   "source": [
    "def forward(X,W1,b1,W2,b2):\n",
    "#     Z = 1/(1 + np.exp(-X.dot(W1) + b1))\n",
    "    Z = relu(X.dot(W1) + b1)\n",
    "    A = Z.dot(W2) + b2\n",
    "    expA = np.exp(A)\n",
    "    Y = expA / expA.sum(axis=1,keepdims=True)\n",
    "    return Y, Z"
   ]
  },
  {
   "cell_type": "code",
   "execution_count": 9,
   "metadata": {
    "collapsed": true
   },
   "outputs": [],
   "source": [
    "def classification_rate(Y,T):\n",
    "    return np.mean(Y==T)"
   ]
  },
  {
   "cell_type": "code",
   "execution_count": 10,
   "metadata": {
    "collapsed": true
   },
   "outputs": [],
   "source": [
    "def derivative_w2(Z,T,Y):\n",
    "    return Z.T.dot(T-Y)"
   ]
  },
  {
   "cell_type": "code",
   "execution_count": 11,
   "metadata": {
    "collapsed": true
   },
   "outputs": [],
   "source": [
    "def derivative_b2(T,Y):\n",
    "    return (T-Y).sum(axis=0)"
   ]
  },
  {
   "cell_type": "code",
   "execution_count": 12,
   "metadata": {
    "collapsed": true
   },
   "outputs": [],
   "source": [
    "def derivative_w1(X, Z, T, Y, W2):\n",
    "#     return X.T.dot((T-Y).dot(W2.T)*Z*(1-Z))\n",
    "    return X.T.dot((T-Y).dot(W2.T)*(Z>0))"
   ]
  },
  {
   "cell_type": "code",
   "execution_count": 13,
   "metadata": {
    "collapsed": true
   },
   "outputs": [],
   "source": [
    "def derivative_b1(Z, T, Y, W2):\n",
    "#     return ((T-Y).dot(W2.T)*Z*(1-Z)).sum(axis=0)\n",
    "    return ((T-Y).dot(W2.T)*(Z>0)).sum(axis=0)"
   ]
  },
  {
   "cell_type": "code",
   "execution_count": 14,
   "metadata": {
    "collapsed": false
   },
   "outputs": [
    {
     "name": "stderr",
     "output_type": "stream",
     "text": [
      "/Users/adnguyen/env/tensorflow/lib/python2.7/site-packages/IPython/core/interactiveshell.py:2821: DtypeWarning: Columns (0,1,2,3,4,5,6,7,8,9,10,11,12,13,14,15,16,17,18,19,20,21,22,23,24,25,26,27,28,29,30,31,32,33,34,35,36,37,38,39,40,41,42,43,44,45,46,47,48,49,50,51,52,53,54,55,56,57,58,59,60,61,62,63,64,65,66,67,68,69,70,71,72,73,74,75,76,77,78,79,80,81,82,83,84,85,86,87,88,89,90,91,92,93,94,95,96,97,98,99,100,101,102,103,104,105,106,107,108,109,110,111,112,113,114,115,116,117,118,119,120,121,122,123,124,125,126,127,128,129,130,131,132,133,134,135,136,137,138,139,140,141,142,143,144,145,146,147,148,149,150,151,152,153,154,155,156,157,158,159,160,161,162,163,164,165,166,167,168,169,170,171,172,173,174,175,176,177,178,179,180,181,182,183,184,185,186,187,188,189,190,191,192,193,194,195,196,197,198,199,200,201,202,203,204,205,206,207,208,209,210,211,212,213,214,215,216,217,218,219,220,221,222,223,224,225,226,227,228,229,230,231,232,233,234,235,236,237,238,239,240,241,242,243,244,245,246,247,248,249,250,251,252,253,254,255,256,257,258,259,260,261,262,263,264,265,266,267,268,269,270,271,272,273,274,275,276,277,278,279,280,281,282,283,284,285,286,287,288,289,290,291,292,293,294,295,296,297,298,299,300,301,302,303,304,305,306,307,308,309,310,311,312,313,314,315,316,317,318,319,320,321,322,323,324,325,326,327,328,329,330,331,332,333,334,335,336,337,338,339,340,341,342,343,344,345,346,347,348,349,350,351,352,353,354,355,356,357,358,359,360,361,362,363,364,365,366,367,368,369,370,371,372,373,374,375,376,377,378,379,380,381,382,383,384,385,386,387,388,389,390,391,392,393,394,395,396,397,398,399,400,401,402,403,404,405,406,407,408,409,410,411,412,413,414,415,416,417,418,419,420,421,422,423,424,425,426,427,428,429,430,431,432,433,434,435,436,437,438,439,440,441,442,443,444,445,446,447,448,449,450,451,452,453,454,455,456,457,458,459,460,461,462,463,464,465,466,467,468,469,470,471,472,473,474,475,476,477,478,479,480,481,482,483,484,485,486,487,488,489,490,491,492,493,494,495,496,497,498,499,500,501,502,503,504,505,506,507,508,509,510,511,512,513,514,515,516,517,518,519,520,521,522,523,524,525,526,527,528,529,530,531,532,533,534,535,536,537,538,539,540,541,542,543,544,545,546,547,548,549,550,551,552,553,554,555,556,557,558,559,560,561,562,563,564,565,566,567,568,569,570,571,572,573,574,575,576,577,578,579,580,581,582,583,584,585,586,587,588,589,590,591,592,593,594,595,596,597,598,599,600,601,602,603,604,605,606,607,608,609,610,611,612,613,614,615,616,617,618,619,620,621,622,623,624,625,626,627,628,629,630,631,632,633,634,635,636,637,638,639,640,641,642,643,644,645,646,647,648,649,650,651,652,653,654,655,656,657,658,659,660,661,662,663,664,665,666,667,668,669,670,671,672,673,674,675,676,677,678,679,680,681,682,683,684,685,686,687,688,689,690,691,692,693,694,695,696,697,698,699,700,701,702,703,704,705,706,707,708,709,710,711,712,713,714,715,716,717,718,719,720,721,722,723,724,725,726,727,728,729,730,731,732,733,734,735,736,737,738,739,740,741,742,743,744,745,746,747,748,749,750,751,752,753,754,755,756,757,758,759,760,761,762,763,764,765,766,767,768,769,770,771,772,773,774,775,776,777,778,779,780,781,782,783,784) have mixed types. Specify dtype option on import or set low_memory=False.\n",
      "  if self.run_code(code, result):\n"
     ]
    }
   ],
   "source": [
    "X,Y = get_mnist_data()"
   ]
  },
  {
   "cell_type": "code",
   "execution_count": 15,
   "metadata": {
    "collapsed": true
   },
   "outputs": [],
   "source": [
    "X_train = X[:-1000]\n",
    "Y_train = Y[:-1000]\n",
    "Y_train_ind = y2indicator(Y_train)\n",
    "X_valid = X[-1000:]\n",
    "Y_valid = Y[-1000:]\n",
    "Y_valid_ind = y2indicator(Y_valid)"
   ]
  },
  {
   "cell_type": "code",
   "execution_count": 16,
   "metadata": {
    "collapsed": true
   },
   "outputs": [],
   "source": [
    "N,D = X_train.shape\n",
    "K = len(set(Y_train))\n",
    "M = 5\n",
    "W1 = np.random.randn(D,M) / np.sqrt(D+M)\n",
    "b1 = np.zeros(M)\n",
    "W2 = np.random.randn(M,K) / np.sqrt(M+K)\n",
    "b2 = np.zeros(K)\n",
    "costs = []"
   ]
  },
  {
   "cell_type": "code",
   "execution_count": 17,
   "metadata": {
    "collapsed": false
   },
   "outputs": [
    {
     "name": "stdout",
     "output_type": "stream",
     "text": [
      "epoch:  0 cost:  2258.83504704 error:  0.831\n",
      "epoch:  100 cost:  1637.59399348 error:  0.548\n",
      "epoch:  200 cost:  1115.55090501 error:  0.304\n",
      "epoch:  300 cost:  833.849998364 error:  0.223\n",
      "epoch:  400 cost:  704.573487433 error:  0.19\n",
      "epoch:  500 cost:  633.440266108 error:  0.176\n",
      "epoch:  600 cost:  588.401232002 error:  0.169\n",
      "epoch:  700 cost:  557.123389671 error:  0.159\n",
      "epoch:  800 cost:  534.066196872 error:  0.155\n",
      "epoch:  900 cost:  516.386976318 error:  0.149\n",
      "epoch:  1000 cost:  502.407817041 error:  0.147\n",
      "epoch:  1100 cost:  491.097926699 error:  0.149\n",
      "epoch:  1200 cost:  481.745213866 error:  0.146\n",
      "epoch:  1300 cost:  473.873725789 error:  0.141\n",
      "epoch:  1400 cost:  467.156874924 error:  0.139\n",
      "epoch:  1500 cost:  461.348097576 error:  0.137\n",
      "epoch:  1600 cost:  456.328747208 error:  0.135\n",
      "epoch:  1700 cost:  451.993955896 error:  0.131\n",
      "epoch:  1800 cost:  448.201921107 error:  0.132\n",
      "epoch:  1900 cost:  444.763431867 error:  0.13\n",
      "epoch:  2000 cost:  441.674483925 error:  0.128\n",
      "epoch:  2100 cost:  438.964711205 error:  0.128\n",
      "epoch:  2200 cost:  436.509920118 error:  0.127\n",
      "epoch:  2300 cost:  434.213135561 error:  0.123\n",
      "epoch:  2400 cost:  432.04779137 error:  0.124\n",
      "epoch:  2500 cost:  430.081448781 error:  0.124\n",
      "epoch:  2600 cost:  428.250938703 error:  0.122\n",
      "epoch:  2700 cost:  426.472035598 error:  0.12\n",
      "epoch:  2800 cost:  424.84834046 error:  0.119\n",
      "epoch:  2900 cost:  423.338079051 error:  0.119\n",
      "epoch:  3000 cost:  421.942783693 error:  0.119\n",
      "epoch:  3100 cost:  420.667016283 error:  0.118\n",
      "epoch:  3200 cost:  419.417489398 error:  0.117\n",
      "epoch:  3300 cost:  418.194207712 error:  0.117\n",
      "epoch:  3400 cost:  417.047891331 error:  0.116\n",
      "epoch:  3500 cost:  415.937915667 error:  0.117\n",
      "epoch:  3600 cost:  414.928545704 error:  0.117\n",
      "epoch:  3700 cost:  414.021078341 error:  0.116\n",
      "epoch:  3800 cost:  413.10548006 error:  0.113\n",
      "epoch:  3900 cost:  412.183869512 error:  0.114\n",
      "epoch:  4000 cost:  411.302567801 error:  0.113\n",
      "epoch:  4100 cost:  410.394910257 error:  0.113\n",
      "epoch:  4200 cost:  409.561558 error:  0.113\n",
      "epoch:  4300 cost:  408.738368736 error:  0.113\n",
      "epoch:  4400 cost:  407.967168811 error:  0.111\n",
      "epoch:  4500 cost:  407.263863653 error:  0.111\n",
      "epoch:  4600 cost:  406.615662347 error:  0.111\n",
      "epoch:  4700 cost:  405.951211182 error:  0.111\n",
      "epoch:  4800 cost:  405.309440277 error:  0.111\n",
      "epoch:  4900 cost:  404.691236864 error:  0.109\n"
     ]
    },
    {
     "data": {
      "image/png": "[encoded data removed]",
      "text/plain": [
       "<matplotlib.figure.Figure at 0x115d41650>"
      ]
     },
     "metadata": {},
     "output_type": "display_data"
    }
   ],
   "source": [
    "for epoch in xrange(5000):\n",
    "    P_Y_given_X, hidden = forward(X_train,W1,b1,W2,b2)\n",
    "    W2 += 1e-6*(derivative_w2(hidden,Y_train_ind,P_Y_given_X) + 1e-8*W2)\n",
    "    b2 += 1e-6*(derivative_b2(Y_train_ind,P_Y_given_X) + 1e-8*b2)\n",
    "    W1 += 1e-6*(derivative_w1(X_train,hidden,Y_train_ind,P_Y_given_X,W2) + 1e-8*W1)\n",
    "    b1 += 1e-6*(derivative_b1(hidden,Y_train_ind,P_Y_given_X,W2) + 1e-8*b1)\n",
    "    if epoch % 100 == 0:\n",
    "        P_Y_valid, _ = forward(X_valid,W1,b1,W2,b2)\n",
    "        c = cost(Y_valid_ind,P_Y_valid)\n",
    "        costs.append(c)\n",
    "        e = error_rate(Y_valid,np.argmax(P_Y_valid,axis=1))\n",
    "        print \"epoch: \", epoch, \"cost: \", c, \"error: \", e\n",
    "plt.plot(costs)\n",
    "plt.show()"
   ]
  }
 ],
 "metadata": {
  "kernelspec": {
   "display_name": "Python 2",
   "language": "python",
   "name": "python2"
  },
  "language_info": {
   "codemirror_mode": {
    "name": "ipython",
    "version": 2
   },
   "file_extension": ".py",
   "mimetype": "text/x-python",
   "name": "python",
   "nbconvert_exporter": "python",
   "pygments_lexer": "ipython2",
   "version": "2.7.10"
  }
 },
 "nbformat": 4,
 "nbformat_minor": 2
}
